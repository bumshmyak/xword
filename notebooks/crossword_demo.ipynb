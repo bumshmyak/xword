{
  "nbformat": 4,
  "nbformat_minor": 0,
  "metadata": {
    "colab": {
      "name": "crossword_demo.ipynb",
      "provenance": [],
      "collapsed_sections": [
        "h5YP0Gu1ZR_y"
      ]
    },
    "kernelspec": {
      "name": "python3",
      "display_name": "Python 3"
    }
  },
  "cells": [
    {
      "cell_type": "code",
      "metadata": {
        "id": "Q2dyeQ3KSMgT"
      },
      "source": [
        "%load_ext autoreload\n",
        "%autoreload 2"
      ],
      "execution_count": 1,
      "outputs": []
    },
    {
      "cell_type": "code",
      "metadata": {
        "id": "foiR-Oe_Qtjb"
      },
      "source": [
        "import sys\n",
        "sys.path.append('/home/odimka/p/crossword')"
      ],
      "execution_count": 2,
      "outputs": []
    },
    {
      "cell_type": "code",
      "metadata": {
        "id": "p0UUZeMPbO8k"
      },
      "source": [
        "import os\n",
        "import pickle\n",
        "import numpy as np\n",
        "from sklearn.metrics.pairwise import cosine_similarity\n",
        "import cv2\n",
        "\n",
        "import cv\n",
        "import ocr\n",
        "import parsing\n",
        "import base\n",
        "import qdb\n",
        "import word_embeddings\n",
        "import sentence_embeddings\n",
        "import scoring\n",
        "import eval"
      ],
      "execution_count": 152,
      "outputs": []
    },
    {
      "cell_type": "code",
      "metadata": {
        "id": "3_e9ATjk2mwb"
      },
      "source": [
        "DATA_DIR = '/home/odimka/p/crossword/data'"
      ],
      "execution_count": 4,
      "outputs": []
    },
    {
      "cell_type": "code",
      "metadata": {
        "cellView": "form",
        "id": "MPlN5VJ4RRZC"
      },
      "source": [
        "#@title Load questions\n",
        "\n",
        "# img_path = '/home/odimka/d/puzzles/images/1.jpeg'\n",
        "# img_path = '/home/odimka/d/puzzles/images/51475.png'\n",
        "# QUESTIONS = ocr.recognize(img_path)\n",
        "\n",
        "html_path = os.path.join(DATA_DIR,'crosswords', '51475.html')\n",
        "QUESTIONS = parsing.parse(html_path)\n",
        "# len(QUESTIONS)\n",
        "\n",
        "QUESTION2ID = {q.text: i for i, q in enumerate(QUESTIONS)}"
      ],
      "execution_count": 147,
      "outputs": []
    },
    {
      "cell_type": "code",
      "metadata": {
        "colab": {
          "base_uri": "https://localhost:8080/"
        },
        "cellView": "form",
        "id": "o479KuGflQaw",
        "outputId": "54a15936-e545-4f05-9ca1-de355db0b8d4"
      },
      "source": [
        "#@title Load data\n",
        "\n",
        "QDF = qdb.get_questions_db(os.path.join(DATA_DIR, 'baza.csv'))\n",
        "\n",
        "GRAPH = base.get_intersection_graph(QUESTIONS)\n",
        "\n",
        "VOCAB = list(map(lambda x: x.strip().lower(),\n",
        "                 open(os.path.join(DATA_DIR, 'hagen_nouns.txt')).readlines()))\n",
        "VOCAB = [w for w in VOCAB if '-' not in w]\n",
        "VOCAB = list(set(VOCAB) | set(QDF['answer']))\n",
        "WORD2ID = {w: i for i, w in enumerate(VOCAB)}\n",
        "\n",
        "print('# Questions:', len(QUESTIONS))\n",
        "print('# Intersections:', sum(map(len, GRAPH.values())) / 2)\n",
        "print('# Words:', len(VOCAB))\n",
        "print('# Questions DB:', len(QDF))"
      ],
      "execution_count": 148,
      "outputs": [
        {
          "output_type": "stream",
          "text": [
            "# Questions: 48\n",
            "# Intersections: 80.0\n",
            "# Words: 111026\n",
            "# Questions DB: 137147\n"
          ],
          "name": "stdout"
        }
      ]
    },
    {
      "cell_type": "code",
      "metadata": {
        "cellView": "form",
        "id": "IVk7GYxb24Mw"
      },
      "source": [
        "#@title BERT based scoring fn\n",
        "\n",
        "QUESTION_BERT_EMBEDS = sentence_embeddings.get_bert_embeds([q.text for q in QUESTIONS])\n",
        "\n",
        "QDF_EMBEDS = pickle.load(open(os.path.join(DATA_DIR, 'qdf_embeds.pkl'), 'rb'))\n",
        "DB_BERT_EMBEDS = np.array([QDF_EMBEDS[x] for x in QDF['question']])\n",
        "DB_ANSWERS = list(QDF['answer'])\n",
        "BERT_DB_SIMILARITY = cosine_similarity(QUESTION_BERT_EMBEDS, DB_BERT_EMBEDS)\n",
        "\n",
        "def get_db_bert_similarity_scoring_fn(words, q):\n",
        "  return scoring.get_db_similarity_scoring_fn(\n",
        "      QUESTION2ID, DB_ANSWERS, BERT_DB_SIMILARITY, words, q)\n",
        "  \n",
        "def get_scoring_fn(words, q):\n",
        "  word_scores = word_embeddings.get_rusvectores_emb_scoring_fn(words, q)\n",
        "  db_scores = get_db_bert_similarity_scoring_fn(words, q)\n",
        "  return scoring.demote_question_words(words, q, np.fmax(word_scores, db_scores))"
      ],
      "execution_count": 168,
      "outputs": []
    },
    {
      "cell_type": "code",
      "metadata": {
        "cellView": "form",
        "id": "OBrYDhkJQ2wK"
      },
      "source": [
        "#@title Scoring\n",
        "\n",
        "from collections import defaultdict\n",
        "\n",
        "VOCAB_INDICES_BY_LENGTH = defaultdict(list)\n",
        "VOCAB_TO_VOCAB_BY_LENGTH = []\n",
        "for i, w in enumerate(VOCAB):\n",
        "  VOCAB_TO_VOCAB_BY_LENGTH.append(len(VOCAB_INDICES_BY_LENGTH[len(w)]))\n",
        "  VOCAB_INDICES_BY_LENGTH[len(w)].append(i)\n",
        "\n",
        "\n",
        "class Scorer:\n",
        "  def __init__(self, score_fn):\n",
        "    self.scores = []\n",
        "    for q in QUESTIONS:\n",
        "      words = [VOCAB[i] for i in VOCAB_INDICES_BY_LENGTH[q.length]]\n",
        "      self.scores.append(score_fn(words, q))\n",
        "\n",
        "  def score(self, q_index, w_index):\n",
        "    return self.scores[q_index][VOCAB_TO_VOCAB_BY_LENGTH[w_index]]\n",
        "\n",
        "\n",
        "class ActiveVocab:\n",
        "  def __init__(self, q_index, scored_word_indices):\n",
        "    self.q_index = q_index\n",
        "    self.scored_word_indices = scored_word_indices\n",
        "    self.scored_word_indices_by_pos = {}\n",
        "    for _, pos, _ in GRAPH[self.q_index]:\n",
        "      if pos not in self.scored_word_indices_by_pos:\n",
        "        self.scored_word_indices_by_pos[pos] = defaultdict(list)\n",
        "      for score, word_index in self.scored_word_indices:\n",
        "        self.scored_word_indices_by_pos[pos][VOCAB[word_index][pos]].append((score, word_index))\n",
        "    \n",
        "  def restrict(self, pos, char):\n",
        "    return ActiveVocab(self.q_index, self.scored_word_indices_by_pos[pos][char])\n",
        "\n",
        "  def max_restricted_score(self, pos, char):\n",
        "    t = self.scored_word_indices_by_pos[pos][char]\n",
        "    if not t:\n",
        "      return None\n",
        "    else:\n",
        "      return t[0][0]\n",
        "  \n",
        "  def max_score(self):\n",
        "    return self.scored_word_indices[0][0]\n",
        "  \n",
        "  @classmethod\n",
        "  def create(self, scorer, q_index):\n",
        "    length = QUESTIONS[q_index].length\n",
        "    scored_word_indices = [(scorer.score(q_index, w_index), w_index)\n",
        "                           for w_index in VOCAB_INDICES_BY_LENGTH[length]]\n",
        "    scored_word_indices = sorted(scored_word_indices, reverse=True)\n",
        "    return ActiveVocab(q_index, scored_word_indices)\n",
        "\n",
        "scorer = Scorer(get_scoring_fn)\n",
        "ACTIVE_VOCABS = [ActiveVocab.create(scorer, i) for i in range(len(QUESTIONS))]"
      ],
      "execution_count": 169,
      "outputs": []
    },
    {
      "cell_type": "code",
      "metadata": {
        "cellView": "form",
        "id": "DEaRZrTYZlHq"
      },
      "source": [
        "#@title Export\n",
        "\n",
        "def export(prefix, vocab, questions, active_vocabs, graph):\n",
        "  if not os.path.exists(prefix):\n",
        "    os.makedirs(prefix)\n",
        "  \n",
        "  open(os.path.join(prefix, 'vocab.txt'), 'w').write('\\n'.join(vocab))\n",
        "\n",
        "  open(os.path.join(prefix, 'answers.txt'), 'w').write('\\n'.join(\n",
        "      [str(q.length) for q in questions]))\n",
        "\n",
        "  with open(os.path.join(prefix, 'scores.txt'), 'w') as out:\n",
        "    for v in active_vocabs:\n",
        "      for score, word_index in v.scored_word_indices:\n",
        "        out.write('%s %s %s\\n' % (v.q_index, word_index, score))\n",
        "\n",
        "  with open(os.path.join(prefix, 'graph.txt'), 'w') as out:\n",
        "    for src, edges in graph.items():\n",
        "      for (dst, src_pos, dst_pos) in edges:\n",
        "        out.write('%d %d %d %d\\n' % (src, dst, src_pos, dst_pos))\n",
        "\n",
        "export(os.path.join(DATA_DIR, 'f'), VOCAB, QUESTIONS, ACTIVE_VOCABS, GRAPH)"
      ],
      "execution_count": 24,
      "outputs": []
    },
    {
      "cell_type": "code",
      "metadata": {
        "colab": {
          "base_uri": "https://localhost:8080/"
        },
        "id": "NMKqewjUnaZI",
        "outputId": "78823f4d-6341-4d16-adda-8586db4b2793"
      },
      "source": [
        "import subprocess\n",
        "\n",
        "SOLVER_BINARY = '/home/odimka/p/crossword/solver'\n",
        "\n",
        "args = (\n",
        "    SOLVER_BINARY,\n",
        "    f'{DATA_DIR}/f/vocab.txt',\n",
        "    f'{DATA_DIR}/f/answers.txt',\n",
        "    f'{DATA_DIR}/f/scores.txt',\n",
        "    f'{DATA_DIR}/f/graph.txt',\n",
        "    f'{DATA_DIR}/f/res.txt'\n",
        ")\n",
        "popen = subprocess.Popen(args, stdout=subprocess.PIPE)\n",
        "popen.wait()\n",
        "output = popen.stdout.read()\n",
        "print(output)"
      ],
      "execution_count": 44,
      "outputs": [
        {
          "output_type": "stream",
          "text": [
            "b'Vocab size: 111026\\nNum questions: 52\\nNum edges: 82\\n17.5849\\n17.3817\\n17.2281\\n17.2004\\n******* \\xd0\\xbf\\xd1\\x80\\xd1\\x8f\\xd0\\xb4\\xd0\\xb5\\xd0\\xb2\\xd0\\xbe\\n******* \\xd1\\x8d\\xd1\\x81\\xd1\\x82\\xd1\\x80\\xd0\\xb0\\xd0\\xb4\\xd0\\xb0\\n********* \\xd0\\xb3\\xd0\\xb8\\xd0\\xbf\\xd0\\xbd\\xd0\\xbe\\xd1\\x82\\xd0\\xb8\\xd0\\xb7\\xd0\\xbc\\n**** \\xd1\\x83\\xd1\\x88\\xd0\\xba\\xd0\\xbe\\n**** \\xd0\\xb8\\xd0\\xb7\\xd0\\xb1\\xd0\\xb0\\n***** \\xd1\\x88\\xd0\\xb0\\xd1\\x81\\xd1\\x81\\xd0\\xb8\\n**** \\xd0\\xb1\\xd1\\x80\\xd0\\xb0\\xd0\\xba\\n****** \\xd1\\x81\\xd0\\xb8\\xd0\\xb5\\xd1\\x81\\xd1\\x82\\xd0\\xb0\\n***** \\xd0\\xb0\\xd0\\xb3\\xd0\\xb5\\xd0\\xbd\\xd1\\x82\\n***** \\xd1\\x80\\xd1\\x83\\xd0\\xb8\\xd0\\xbd\\xd0\\xb0\\n***** \\xd1\\x88\\xd0\\xb0\\xd0\\xba\\xd0\\xb0\\xd0\\xbb\\n***** \\xd0\\xb0\\xd1\\x84\\xd0\\xb8\\xd1\\x88\\xd0\\xb0\\n**** \\xd0\\xb7\\xd0\\xb0\\xd0\\xbb\\xd0\\xbf\\n****** \\xd0\\xba\\xd1\\x80\\xd0\\xbe\\xd0\\xba\\xd1\\x83\\xd1\\x81\\n**** \\xd0\\xb0\\xd0\\xbb\\xd0\\xbb\\xd0\\xbe\\n**** \\xd0\\xbc\\xd0\\xbe\\xd0\\xb0\\xd0\\xb8\\n****** \\xd0\\xb1\\xd0\\xb5\\xd1\\x85\\xd0\\xb0\\xd0\\xb9\\xd0\\xbc\\n**** \\xd1\\x8f\\xd0\\xb4\\xd1\\x80\\xd0\\xbe\\n***** \\xd0\\xb1\\xd0\\xbe\\xd0\\xbb\\xd0\\xb8\\xd0\\xb4\\n***** \\xd0\\xb8\\xd0\\xb0\\xd1\\x84\\xd0\\xb5\\xd1\\x82\\n***** \\xd0\\xbc\\xd0\\xb0\\xd1\\x80\\xd1\\x81\\xd0\\xbe\\n***** \\xd0\\xba\\xd0\\xb0\\xd0\\xb4\\xd0\\xb5\\xd1\\x82\\n****** \\xd0\\xb3\\xd0\\xb0\\xd0\\xbb\\xd0\\xb5\\xd1\\x80\\xd0\\xb0\\n**** \\xd1\\x80\\xd0\\xb8\\xd0\\xb3\\xd0\\xb0\\n***** \\xd0\\xbc\\xd0\\xbe\\xd1\\x80\\xd0\\xbc\\xd0\\xbe\\n**** \\xd0\\xbb\\xd0\\xbe\\xd1\\x80\\xd0\\xb8\\n**** \\xd0\\xbd\\xd1\\x80\\xd0\\xb0\\xd0\\xb2\\n********* \\xd1\\x81\\xd0\\xb5\\xd0\\xbb\\xd1\\x8c\\xd0\\xb4\\xd0\\xb6\\xd1\\x83\\xd0\\xba\\xd0\\xb8\\n******* \\xd1\\x81\\xd1\\x82\\xd0\\xb0\\xd1\\x82\\xd0\\xb8\\xd0\\xba\\xd0\\xb0\\n******* \\xd0\\xbe\\xd1\\x80\\xd0\\xb0\\xd0\\xbd\\xd0\\xb6\\xd0\\xb0\\xd0\\xb4\\n***** \\xd1\\x80\\xd0\\xb8\\xd0\\xba\\xd1\\x88\\xd0\\xb0\\n******* \\xd0\\xb2\\xd1\\x8b\\xd0\\xbf\\xd1\\x83\\xd1\\x88\\xd0\\xba\\xd0\\xb0\\n******* \\xd1\\x81\\xd1\\x82\\xd0\\xb8\\xd0\\xbb\\xd0\\xb8\\xd1\\x81\\xd1\\x82\\n****** \\xd0\\xb4\\xd0\\xb8\\xd0\\xb0\\xd0\\xb1\\xd0\\xb5\\xd1\\x82\\n********* \\xd0\\xbf\\xd0\\xbe\\xd1\\x8f\\xd1\\x81\\xd0\\xbd\\xd0\\xb5\\xd0\\xbd\\xd0\\xb8\\xd0\\xb5\\n****** \\xd0\\xb3\\xd0\\xbe\\xd0\\xb1\\xd1\\x80\\xd0\\xbe\\xd0\\xbd\\n*********** \\xd0\\xbc\\xd0\\xb8\\xd0\\xbd\\xd0\\xb5\\xd1\\x80\\xd0\\xb0\\xd0\\xbb\\xd0\\xbe\\xd0\\xb3\\xd0\\xb8\\xd1\\x8f\\n***** \\xd0\\xb0\\xd1\\x82\\xd0\\xbb\\xd0\\xb0\\xd1\\x81\\n**** \\xd0\\xb3\\xd1\\x80\\xd1\\x83\\xd0\\xb7\\n****** \\xd0\\xb0\\xd0\\xbf\\xd0\\xbb\\xd0\\xbe\\xd0\\xbc\\xd0\\xb1\\n****** \\xd0\\xb0\\xd0\\xba\\xd0\\xba\\xd0\\xbe\\xd1\\x80\\xd0\\xb4\\n**** \\xd0\\xb0\\xd0\\xb1\\xd0\\xb1\\xd0\\xb5\\n*********** \\xd0\\xbf\\xd0\\xb0\\xd1\\x80\\xd0\\xb0\\xd0\\xb3\\xd0\\xb5\\xd0\\xbd\\xd0\\xb5\\xd0\\xb7\\xd0\\xb8\\xd1\\x81\\n**** \\xd1\\x83\\xd1\\x80\\xd1\\x8d\\xd1\\x80\\n***** \\xd0\\xb1\\xd0\\xbe\\xd0\\xb8\\xd0\\xbd\\xd0\\xb3\\n********* \\xd1\\x8d\\xd0\\xbb\\xd1\\x8c\\xd0\\xb4\\xd0\\xbe\\xd1\\x80\\xd0\\xb0\\xd0\\xb4\\xd0\\xbe\\n**** \\xd0\\xbe\\xd0\\xb1\\xd0\\xbe\\xd0\\xb4\\n****** \\xd0\\xb0\\xd1\\x84\\xd0\\xb3\\xd0\\xb0\\xd0\\xbd\\xd0\\xb8\\n******* \\xd0\\xba\\xd0\\xb0\\xd0\\xbc\\xd0\\xb5\\xd0\\xbb\\xd0\\xb5\\xd0\\xba\\n******* \\xd1\\x82\\xd1\\x80\\xd0\\xbe\\xd1\\x82\\xd1\\x83\\xd0\\xb0\\xd1\\x80\\n****** \\xd0\\xb0\\xd1\\x80\\xd0\\xbe\\xd0\\xbc\\xd0\\xb0\\xd1\\x82\\n***** \\xd1\\x80\\xd0\\xb0\\xd0\\xb4\\xd0\\xb4\\xd0\\xb0\\nAcc: 0. 0 out of 52.\\n'\n"
          ],
          "name": "stdout"
        }
      ]
    },
    {
      "cell_type": "code",
      "metadata": {
        "colab": {
          "base_uri": "https://localhost:8080/"
        },
        "id": "ILNsahV-fqPa",
        "outputId": "29cd5b99-9cb3-4b7c-f0d7-879d030b366a"
      },
      "source": [
        "import copy\n",
        "\n",
        "def read_answers(filepath):\n",
        "  answers = []\n",
        "  with open(filepath) as f:\n",
        "    for line in f.readlines():\n",
        "      answers.append(line.strip())\n",
        "  return answers\n",
        "\n",
        "answers = read_answers(os.path.join(DATA_DIR, 'f', 'res.txt'))\n",
        "for q, a in zip(QUESTIONS, answers):\n",
        "  q.answer = a\n",
        "questions = copy.deepcopy(QUESTIONS)\n",
        "questions = sorted(questions, key=lambda q: (q.d, q.number))\n",
        "answers = [q.answer for q in questions]\n",
        "\n",
        "correct_answers = read_answers(os.path.join(DATA_DIR, '1.answers'))\n",
        "assert len(answers) == len(correct_answers)\n",
        "\n",
        "num_correct = 0\n",
        "for a, correct_a in zip(answers, correct_answers):\n",
        "  if a == correct_a:\n",
        "    num_correct += 1\n",
        "  else:\n",
        "    print(a, correct_a)\n",
        "\n",
        "print('Acc: %f (%d out of %d)' % (num_correct / len(answers), num_correct, len(answers)))"
      ],
      "execution_count": 35,
      "outputs": [
        {
          "output_type": "stream",
          "text": [
            "прядево кружево\n",
            "брак шлак\n",
            "шакал тариф\n",
            "алло реле\n",
            "бехайм битком\n",
            "иафет индюк\n",
            "мормо пуаро\n",
            "сельджуки ессентуки\n",
            "статика стрекач\n",
            "оранжад гранула\n",
            "гоброн горлан\n",
            "атлас анфас\n",
            "аббе асаи\n",
            "парагенезис приключение\n",
            "урэр убор\n",
            "эльдорадо бладхаунд\n",
            "обод опор\n",
            "камелек капуста\n",
            "радда марал\n",
            "Acc: 0.634615 (33 out of 52)\n"
          ],
          "name": "stdout"
        }
      ]
    },
    {
      "cell_type": "code",
      "metadata": {
        "colab": {
          "base_uri": "https://localhost:8080/"
        },
        "id": "rnjyEw5PrQmI",
        "outputId": "4f251bf1-6a8b-4c06-c29c-8c5c3d31d07b"
      },
      "source": [
        "os.environ['GOOGLE_APPLICATION_CREDENTIALS']"
      ],
      "execution_count": 47,
      "outputs": [
        {
          "output_type": "execute_result",
          "data": {
            "text/plain": [
              "'/home/odimka/key.json'"
            ]
          },
          "metadata": {
            "tags": []
          },
          "execution_count": 47
        }
      ]
    },
    {
      "cell_type": "code",
      "metadata": {
        "colab": {
          "base_uri": "https://localhost:8080/"
        },
        "id": "PpiYAAPQjFyZ",
        "outputId": "c276bacc-c5d9-4102-fcb5-0f6d13bcb148"
      },
      "source": [
        "def show_questions_grid(questions):\n",
        "  n = 0\n",
        "  m = 0\n",
        "  for q in questions:\n",
        "    if q.d == 1:\n",
        "      n = max(n, q.i + q.length)\n",
        "    else:\n",
        "      m = max(m, q.j + q.length)\n",
        "  \n",
        "  board = [['#'] * m for _ in range(n)]\n",
        "  for q in questions:\n",
        "    i = q.i\n",
        "    j = q.j\n",
        "    for k in range(q.length):\n",
        "      board[i][j] = q.answer[k]\n",
        "      k += 1\n",
        "      if q.d == 0:\n",
        "        j += 1\n",
        "      else:\n",
        "        i += 1\n",
        "  return '\\n'.join([' '.join(row) for row in board])\n",
        "\n",
        "print(show_questions_grid(QUESTIONS))"
      ],
      "execution_count": 41,
      "outputs": [
        {
          "output_type": "stream",
          "text": [
            "п р я д е в о # э с т р а д а\n",
            "# и # # # ы # п # т # # # и #\n",
            "# к # г и п н о т и з м # а #\n",
            "у ш к о # у # я # л # и з б а\n",
            "# а # б # ш а с с и # н # е #\n",
            "# # б р а к # н # с и е с т а\n",
            "г # # о # а г е н т # р # # т\n",
            "р у и н а # # н # # ш а к а л\n",
            "у # # # # а ф и ш а # л # # а\n",
            "з а л п # п # е # к р о к у с\n",
            "# б # а л л о # # к # г # р #\n",
            "# б # р # о # # м о а и # э #\n",
            "б е х а й м # э # р # я д р о\n",
            "о # # г # б о л и д # # # # б\n",
            "и а ф е т # # ь # # м а р с о\n",
            "н # # н # к а д е т # ф # # д\n",
            "г а л е р а # о # р и г а # #\n",
            "# р # з # м о р м о # а # р #\n",
            "л о р и # е # а # т # н р а в\n",
            "# м # с е л ь д ж у к и # д #\n",
            "# а # # # е # о # а # # # д #\n",
            "с т а т и к а # о р а н ж а д\n"
          ],
          "name": "stdout"
        }
      ]
    },
    {
      "cell_type": "markdown",
      "metadata": {
        "id": "h5YP0Gu1ZR_y"
      },
      "source": [
        "## Scratch"
      ]
    },
    {
      "cell_type": "code",
      "metadata": {
        "id": "t4ARMEQTTaP8"
      },
      "source": [
        "#@title display_image_in_actual_size\n",
        "\n",
        "from matplotlib.pyplot import imshow\n",
        "%matplotlib inline\n",
        "\n",
        "import matplotlib as mpl\n",
        "import matplotlib.pyplot as plt\n",
        "\n",
        "\n",
        "def display_image(im_data):\n",
        "  dpi = mpl.rcParams['figure.dpi']\n",
        "  height, width = im_data.shape\n",
        "\n",
        "  # What size does the figure need to be in inches to fit the image?\n",
        "  figsize = width / float(dpi), height / float(dpi)\n",
        "\n",
        "  # Create a figure of the right size with one axes that takes up the full figure\n",
        "  fig = plt.figure(figsize=figsize)\n",
        "  ax = fig.add_axes([0, 0, 1, 1])\n",
        "\n",
        "  # Hide spines, ticks, etc.\n",
        "  ax.axis('off')\n",
        "\n",
        "  # Display the image.\n",
        "  ax.imshow(im_data, cmap='gray')\n",
        "\n",
        "  plt.show()\n",
        "\n",
        "# display_image_in_actual_size(questions_img)"
      ],
      "execution_count": 83,
      "outputs": []
    },
    {
      "cell_type": "code",
      "metadata": {
        "id": "q5CnaOFJuyXR"
      },
      "source": [
        "questions1 = sorted(questions1, key=lambda q: (q.i, q.j, q.d))\n",
        "\n",
        "print(len(questions))\n",
        "print(len(questions1))\n",
        "assert len(questions) == len(questions1)\n",
        "\n",
        "for q1, q2 in zip(questions, questions1):\n",
        "  if q1.text != q2.text:\n",
        "    print('%s---%s' % (q1, q2))"
      ],
      "execution_count": null,
      "outputs": []
    },
    {
      "cell_type": "code",
      "metadata": {
        "id": "xROejjyuZ9oU"
      },
      "source": [
        "img = questions_img.copy()\n",
        "for b in boxes:\n",
        "  img = cv2.rectangle(\n",
        "    img,\n",
        "    (b.top_left.x, b.top_left.y),\n",
        "    (b.bottom_right.x, b.bottom_right.y),\n",
        "    (0,255,0), 3)\n",
        "\n",
        "img = cv2.rectangle(\n",
        "    img,\n",
        "    (int(thresholds[2]), 0),\n",
        "    (int(thresholds[2]) + 5, 3000),\n",
        "    (0,255,0),3)\n",
        "\n",
        "display_image(img)"
      ],
      "execution_count": 304,
      "outputs": []
    }
  ]
}